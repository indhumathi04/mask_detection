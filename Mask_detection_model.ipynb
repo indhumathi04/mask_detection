{
 "cells": [
  {
   "cell_type": "code",
   "execution_count": 3,
   "id": "brilliant-turner",
   "metadata": {},
   "outputs": [],
   "source": [
    "from tensorflow.keras.preprocessing.image import ImageDataGenerator\n",
    "from tensorflow.keras.applications import MobileNetV2\n",
    "from tensorflow.keras.layers import AveragePooling2D\n",
    "from tensorflow.keras.layers import Dropout\n",
    "from tensorflow.keras.layers import Flatten\n",
    "from tensorflow.keras.layers import Dense\n",
    "from tensorflow.keras.layers import Input\n",
    "from tensorflow.keras.models import Model\n",
    "from tensorflow.keras.optimizers import Adam\n",
    "from tensorflow.keras.applications.mobilenet_v2 import preprocess_input\n",
    "from tensorflow.keras.preprocessing.image import img_to_array\n",
    "from tensorflow.keras.preprocessing.image import load_img\n",
    "from tensorflow.keras.utils import to_categorical\n",
    "from sklearn.preprocessing import LabelBinarizer\n",
    "from sklearn.model_selection import train_test_split\n",
    "from imutils import paths\n",
    "import matplotlib.pyplot as plt\n",
    "import numpy as np\n",
    "import os"
   ]
  },
  {
   "cell_type": "code",
   "execution_count": 21,
   "id": "spare-oasis",
   "metadata": {},
   "outputs": [],
   "source": [
    "imagePaths = list(paths.list_images(r'C:\\Users\\hp\\Downloads\\dataset-20210122T132342Z-001\\dataset'))\n",
    "data = []\n",
    "labels = []\n",
    "# loop over the image paths\n",
    "for imagePath in imagePaths:\n",
    "    # extract the class label from the filename\n",
    "    label = imagePath.split(os.path.sep)[-2]\n",
    "    # load the input image (224x224) and preprocess it\n",
    "    image = load_img(imagePath, target_size=(224, 224))\n",
    "    image = img_to_array(image)\n",
    "    image = preprocess_input(image)\n",
    "    # update the data and labels lists, respectively\n",
    "    data.append(image)\n",
    "    labels.append(label)\n",
    "\n",
    "data = np.array(data, dtype=\"float32\")\n",
    "labels = np.array(labels)\n"
   ]
  },
  {
   "cell_type": "code",
   "execution_count": 22,
   "id": "instructional-richardson",
   "metadata": {},
   "outputs": [],
   "source": [
    "baseModel = MobileNetV2(weights=\"imagenet\", include_top=False,\n",
    "    input_shape=(224, 224, 3))\n",
    "# construct the head of the model that will be placed on top of the\n",
    "# the base model\n",
    "headModel = baseModel.output\n",
    "headModel = AveragePooling2D(pool_size=(7, 7))(headModel)\n",
    "headModel = Flatten(name=\"flatten\")(headModel)\n",
    "headModel = Dense(128, activation=\"relu\")(headModel)\n",
    "headModel = Dropout(0.5)(headModel)\n",
    "headModel = Dense(2, activation=\"softmax\")(headModel)\n"
   ]
  },
  {
   "cell_type": "code",
   "execution_count": 23,
   "id": "numerous-error",
   "metadata": {},
   "outputs": [],
   "source": [
    "model = Model(inputs=baseModel.input, outputs=headModel)\n",
    "# loop over all layers in the base model and freeze them so they will\n",
    "# *not* be updated during the first training process\n",
    "for layer in baseModel.layers:\n",
    "    layer.trainable = False\n"
   ]
  },
  {
   "cell_type": "code",
   "execution_count": 25,
   "id": "improving-phase",
   "metadata": {},
   "outputs": [],
   "source": [
    "lb = LabelBinarizer()\n",
    "labels = lb.fit_transform(labels)\n",
    "labels = to_categorical(labels)\n",
    "# partition the data into training and testing splits using 80% of\n",
    "# the data for training and the remaining 20% for testing\n",
    "(trainX, testX, trainY, testY) = train_test_split(data, labels,\n",
    "    test_size=0.20, stratify=labels, random_state=42)\n",
    "# construct the training image generator for data augmentation\n",
    "aug = ImageDataGenerator(\n",
    "    rotation_range=20,\n",
    "    zoom_range=0.15,\n",
    "    width_shift_range=0.2,\n",
    "    height_shift_range=0.2,\n",
    "    shear_range=0.15,\n",
    "    horizontal_flip=True,\n",
    "    fill_mode=\"nearest\")"
   ]
  },
  {
   "cell_type": "code",
   "execution_count": 26,
   "id": "naked-honolulu",
   "metadata": {},
   "outputs": [
    {
     "name": "stdout",
     "output_type": "stream",
     "text": [
      "[INFO] compiling model...\n",
      "[INFO] training head...\n",
      "Epoch 1/20\n",
      "WARNING:tensorflow:From C:\\Users\\hp\\Anaconda3\\envs\\py36\\lib\\site-packages\\tensorflow\\python\\ops\\math_grad.py:1250: add_dispatch_support.<locals>.wrapper (from tensorflow.python.ops.array_ops) is deprecated and will be removed in a future version.\n",
      "Instructions for updating:\n",
      "Use tf.where in 2.0, which has the same broadcast rule as np.where\n",
      "95/95 [==============================] - 410s 4s/step - loss: 0.5340 - acc: 0.7357 - val_loss: 0.3875 - val_acc: 0.8475\n",
      "Epoch 2/20\n",
      "95/95 [==============================] - 377s 4s/step - loss: 0.3043 - acc: 0.8761 - val_loss: 0.3483 - val_acc: 0.8592\n",
      "Epoch 3/20\n",
      "95/95 [==============================] - 375s 4s/step - loss: 0.2336 - acc: 0.9146 - val_loss: 0.3311 - val_acc: 0.8670\n",
      "Epoch 4/20\n",
      "95/95 [==============================] - 373s 4s/step - loss: 0.2054 - acc: 0.9291 - val_loss: 0.3074 - val_acc: 0.8801\n",
      "Epoch 5/20\n",
      "95/95 [==============================] - 372s 4s/step - loss: 0.1681 - acc: 0.9426 - val_loss: 0.2875 - val_acc: 0.8866\n",
      "Epoch 6/20\n",
      "95/95 [==============================] - 382s 4s/step - loss: 0.1581 - acc: 0.9436 - val_loss: 0.2064 - val_acc: 0.9140\n",
      "Epoch 7/20\n",
      "95/95 [==============================] - 374s 4s/step - loss: 0.1495 - acc: 0.9433 - val_loss: 0.2614 - val_acc: 0.9022\n",
      "Epoch 8/20\n",
      "95/95 [==============================] - 370s 4s/step - loss: 0.1386 - acc: 0.9486 - val_loss: 0.2408 - val_acc: 0.9061\n",
      "Epoch 9/20\n",
      "95/95 [==============================] - 376s 4s/step - loss: 0.1316 - acc: 0.9463 - val_loss: 0.2635 - val_acc: 0.9048\n",
      "Epoch 10/20\n",
      "95/95 [==============================] - 355s 4s/step - loss: 0.1250 - acc: 0.9545 - val_loss: 0.2779 - val_acc: 0.9009\n",
      "Epoch 11/20\n",
      "95/95 [==============================] - 319s 3s/step - loss: 0.1189 - acc: 0.9572 - val_loss: 0.2848 - val_acc: 0.8996\n",
      "Epoch 12/20\n",
      "95/95 [==============================] - 317s 3s/step - loss: 0.1079 - acc: 0.9600 - val_loss: 0.2930 - val_acc: 0.8957\n",
      "Epoch 13/20\n",
      "95/95 [==============================] - 317s 3s/step - loss: 0.1055 - acc: 0.9604 - val_loss: 0.2791 - val_acc: 0.9022\n",
      "Epoch 14/20\n",
      "95/95 [==============================] - 315s 3s/step - loss: 0.1129 - acc: 0.9578 - val_loss: 0.2168 - val_acc: 0.9192\n",
      "Epoch 15/20\n",
      "95/95 [==============================] - 317s 3s/step - loss: 0.1142 - acc: 0.9581 - val_loss: 0.3747 - val_acc: 0.8801\n",
      "Epoch 16/20\n",
      "95/95 [==============================] - 320s 3s/step - loss: 0.0988 - acc: 0.9641 - val_loss: 0.2683 - val_acc: 0.9035\n",
      "Epoch 17/20\n",
      "95/95 [==============================] - 321s 3s/step - loss: 0.1034 - acc: 0.9627 - val_loss: 0.2977 - val_acc: 0.8996\n",
      "Epoch 18/20\n",
      "95/95 [==============================] - 315s 3s/step - loss: 0.0830 - acc: 0.9717 - val_loss: 0.2725 - val_acc: 0.9048\n",
      "Epoch 19/20\n",
      "95/95 [==============================] - 315s 3s/step - loss: 0.0812 - acc: 0.9717 - val_loss: 0.2501 - val_acc: 0.9100\n",
      "Epoch 20/20\n",
      "95/95 [==============================] - 314s 3s/step - loss: 0.1009 - acc: 0.9615 - val_loss: 0.2699 - val_acc: 0.9048\n"
     ]
    }
   ],
   "source": [
    "INIT_LR = 1e-4\n",
    "EPOCHS = 20\n",
    "BS = 32\n",
    "print(\"[INFO] compiling model...\")\n",
    "opt = Adam(lr=INIT_LR, decay=INIT_LR / EPOCHS)\n",
    "model.compile(loss=\"binary_crossentropy\", optimizer=opt,\n",
    "    metrics=[\"accuracy\"])\n",
    "# train the head of the network\n",
    "print(\"[INFO] training head...\")\n",
    "H = model.fit(\n",
    "    aug.flow(trainX, trainY, batch_size=BS),\n",
    "    steps_per_epoch=len(trainX) // BS,\n",
    "    validation_data=(testX, testY),\n",
    "    validation_steps=len(testX) // BS,\n",
    "    epochs=EPOCHS)"
   ]
  },
  {
   "cell_type": "code",
   "execution_count": 27,
   "id": "controlling-proposition",
   "metadata": {},
   "outputs": [],
   "source": [
    "model.save('mask.h5')"
   ]
  },
  {
   "cell_type": "code",
   "execution_count": 30,
   "id": "interracial-conditioning",
   "metadata": {},
   "outputs": [
    {
     "data": {
      "text/plain": [
       "<matplotlib.legend.Legend at 0x229d3d3ca20>"
      ]
     },
     "execution_count": 30,
     "metadata": {},
     "output_type": "execute_result"
    },
    {
     "data": {
      "image/png": "[encoded data removed]",
      "text/plain": [
       "<Figure size 432x288 with 1 Axes>"
      ]
     },
     "metadata": {},
     "output_type": "display_data"
    }
   ],
   "source": [
    "N = EPOCHS\n",
    "plt.style.use(\"ggplot\")\n",
    "plt.figure()\n",
    "plt.plot(np.arange(0, N), H.history[\"loss\"], label=\"train_loss\")\n",
    "plt.plot(np.arange(0, N), H.history[\"val_loss\"], label=\"val_loss\")\n",
    "plt.plot(np.arange(0, N), H.history[\"acc\"], label=\"train_acc\")\n",
    "plt.plot(np.arange(0, N), H.history[\"val_acc\"], label=\"val_acc\")\n",
    "plt.title(\"Training Loss and Accuracy\")\n",
    "plt.xlabel(\"Epoch #\")\n",
    "plt.ylabel(\"Loss/Accuracy\")\n",
    "plt.legend(loc=\"lower left\")"
   ]
  },
  {
   "cell_type": "code",
   "execution_count": null,
   "id": "polish-sunday",
   "metadata": {},
   "outputs": [],
   "source": []
  }
 ],
 "metadata": {
  "kernelspec": {
   "display_name": "py36",
   "language": "python",
   "name": "py36"
  },
  "language_info": {
   "codemirror_mode": {
    "name": "ipython",
    "version": 3
   },
   "file_extension": ".py",
   "mimetype": "text/x-python",
   "name": "python",
   "nbconvert_exporter": "python",
   "pygments_lexer": "ipython3",
   "version": "3.6.10"
  }
 },
 "nbformat": 4,
 "nbformat_minor": 5
}
